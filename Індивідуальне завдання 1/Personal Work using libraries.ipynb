{
 "cells": [
  {
   "cell_type": "code",
   "execution_count": 1,
   "id": "01055bc7-6044-4795-9e14-39544d25c2f7",
   "metadata": {},
   "outputs": [],
   "source": [
    "import matplotlib.pyplot as plt\n",
    "import numpy\n",
    "import scipy\n",
    "from scipy import stats\n",
    "from scipy.stats import norm\n",
    "import timeit\n",
    "import random"
   ]
  },
  {
   "cell_type": "code",
   "execution_count": 2,
   "id": "2c1006c8-c39c-40ff-a1a0-8ef89ce8eb49",
   "metadata": {},
   "outputs": [],
   "source": [
    "a = []\n",
    "max_possible_random = 5000"
   ]
  },
  {
   "cell_type": "code",
   "execution_count": 3,
   "id": "6934f3c3-436d-40ee-90d2-9caf08543224",
   "metadata": {},
   "outputs": [],
   "source": [
    "random_number_length = 1000\n",
    "for i in range(random_number_length):\n",
    "    a.append(random.randint(1, max_possible_random))"
   ]
  },
  {
   "cell_type": "code",
   "execution_count": 4,
   "id": "5d056609-6c4e-4545-a68e-7ab54cda8c95",
   "metadata": {},
   "outputs": [],
   "source": [
    "sorted_a = sorted(a)"
   ]
  },
  {
   "cell_type": "code",
   "execution_count": 5,
   "id": "abf82a7d-df20-4a79-a522-fe217a9dcdb0",
   "metadata": {},
   "outputs": [],
   "source": [
    "def print_frequency_table(distinct_values_list, counts):\n",
    "    print(\"Частотна таблиця\")\n",
    "    print(\"Xi\\t\\tNi\")\n",
    "    for i in range(len(distinct_values_list)):\n",
    "        print(str(distinct_values_list[i]) + \"\\t|\\t\" + str(a.count(i)))"
   ]
  },
  {
   "cell_type": "code",
   "execution_count": 6,
   "id": "dee369dc-04df-4c67-a5b4-67526f06cb6d",
   "metadata": {},
   "outputs": [],
   "source": [
    "starttime = timeit.default_timer()\n",
    "distinct_values = sorted(set(a))\n",
    "\n",
    "counts = []\n",
    "for i in distinct_values:\n",
    "    counts.append(a.count(i))\n",
    "\n",
    "#print_frequency_table(distinct_values, counts)"
   ]
  },
  {
   "cell_type": "code",
   "execution_count": 7,
   "id": "220051c3-bf15-4034-b0ca-a9254899d338",
   "metadata": {},
   "outputs": [],
   "source": [
    "# print(\"Представити графічно статистичний матеріал\")\n",
    "# plt.plot(distinct_values, counts, marker='o', color='g')\n",
    "# plt.show()"
   ]
  },
  {
   "cell_type": "code",
   "execution_count": 8,
   "id": "4dbc168c-c006-4a71-ab9e-7a44838f555c",
   "metadata": {},
   "outputs": [],
   "source": [
    "# def print_empirical_function(probabilities, distinct_v):\n",
    "#     print(str(probabilities[0]) + \", x < \" + str(distinct_v[0]))\n",
    "\n",
    "#     for i in range(1, (len(distinct_v))):\n",
    "#         print(str(probabilities[i]) + \", \" + str(distinct_v[i-1]) + \" <= x < \" + str(distinct_v[i]))\n",
    "\n",
    "#     print(str(probabilities[-1]) + \", x >= \" + str(distinct_v[-1]))"
   ]
  },
  {
   "cell_type": "code",
   "execution_count": 9,
   "id": "c9b45862-2f0c-41d1-b538-95c78bb1c1a7",
   "metadata": {},
   "outputs": [],
   "source": [
    "def find_probabilities(a, counts):\n",
    "    probabilities = []\n",
    "    start = 0\n",
    "    for i in counts:\n",
    "        probabilities.append(start)\n",
    "        start += i/len(a)\n",
    "    probabilities.append(start)\n",
    "    \n",
    "    return probabilities"
   ]
  },
  {
   "cell_type": "code",
   "execution_count": 10,
   "id": "1cd755f0-70c1-4c10-bfed-7f2e3a50481c",
   "metadata": {},
   "outputs": [],
   "source": [
    "probabilities = find_probabilities(a, counts)"
   ]
  },
  {
   "cell_type": "code",
   "execution_count": 11,
   "id": "e0c24450-ec22-4066-ba34-82ab7c8522f4",
   "metadata": {},
   "outputs": [],
   "source": [
    "# print(\"Задати аналітично та побудувати емпіричну функцію розподілу\")\n",
    "# print()\n",
    "# print(\"Аналітично: \")\n",
    "#print_empirical_function(probabilities, distinct_values)"
   ]
  },
  {
   "cell_type": "code",
   "execution_count": 12,
   "id": "d502eceb-e34e-48b2-834e-f5d477ee19f0",
   "metadata": {},
   "outputs": [],
   "source": [
    "#медіана\n",
    "def find_median_discrete(a):\n",
    "    a_len = len(a)\n",
    "    return (a[a_len//2-1] + a[a_len//2]) / 2 if a_len % 2 == 0 else a[a_len//2]"
   ]
  },
  {
   "cell_type": "code",
   "execution_count": 13,
   "id": "ad22649e-bf72-48ca-952c-40f362443441",
   "metadata": {},
   "outputs": [],
   "source": [
    "def find_max(a):\n",
    "    _max = a[0]\n",
    "    for i in a:\n",
    "        if i > _max:\n",
    "            _max = i\n",
    "    return _max"
   ]
  },
  {
   "cell_type": "code",
   "execution_count": 14,
   "id": "23311412-0d21-4fed-a84c-b12044bd648c",
   "metadata": {},
   "outputs": [],
   "source": [
    "def find_min(a):\n",
    "    _min = a[0]\n",
    "    for i in a:\n",
    "        if i < _min:\n",
    "            _min = i\n",
    "    return _min"
   ]
  },
  {
   "cell_type": "code",
   "execution_count": 15,
   "id": "207a8dd7-4aaf-45da-b9ed-8858d5fb6237",
   "metadata": {},
   "outputs": [],
   "source": [
    "#мода\n",
    "def find_moda_discrete(lst, counts, distinct_v):\n",
    "    to_return = []\n",
    "    for i in range(len(counts)):\n",
    "        if counts[i] == find_max(counts):\n",
    "            to_return.append(distinct_v[i])\n",
    "    return to_return"
   ]
  },
  {
   "cell_type": "code",
   "execution_count": 16,
   "id": "12efd3c0-2cfe-4b55-8be0-dfb27c21e030",
   "metadata": {
    "tags": []
   },
   "outputs": [],
   "source": [
    "#вибіркове середнє\n",
    "def average_(distinct_v, counts):\n",
    "    to_return = 0\n",
    "    for i in range(len(distinct_v)):\n",
    "        to_return += (distinct_v[i] * counts[i])\n",
    "    return to_return/sum_(counts)"
   ]
  },
  {
   "cell_type": "code",
   "execution_count": 17,
   "id": "b61d7ef7-4f2a-4802-b89b-9bb0cfed3422",
   "metadata": {},
   "outputs": [],
   "source": [
    "#розмах\n",
    "def scope(distinct_v):\n",
    "    return find_max(distinct_v) - find_min(distinct_v)"
   ]
  },
  {
   "cell_type": "code",
   "execution_count": 18,
   "id": "4e0f920c-aab3-4ead-bf84-d40b6877d642",
   "metadata": {},
   "outputs": [],
   "source": [
    "#сума\n",
    "def sum_(lst):\n",
    "    to_return = 0\n",
    "    for i in lst:\n",
    "        to_return += i\n",
    "    return to_return"
   ]
  },
  {
   "cell_type": "code",
   "execution_count": 19,
   "id": "9d6193ca-e913-437a-ab86-0124d5cc2572",
   "metadata": {},
   "outputs": [],
   "source": [
    "#девіація\n",
    "def deviation(distinct_v, counts):\n",
    "    to_return = 0\n",
    "    avg = average_(distinct_v, counts)\n",
    "    for i in range(len(distinct_v)):\n",
    "        to_return += (((distinct_v[i] - avg) ** 2) * counts[i])\n",
    "    return to_return"
   ]
  },
  {
   "cell_type": "code",
   "execution_count": 20,
   "id": "7963660d-4eb6-4f8a-8fd4-542c405773fc",
   "metadata": {},
   "outputs": [],
   "source": [
    "#варіанса\n",
    "def variance(distinct_v, counts):\n",
    "    return deviation(distinct_v, counts)/(sum_(counts)-1)"
   ]
  },
  {
   "cell_type": "code",
   "execution_count": 21,
   "id": "0293ccd6-a9f4-4012-8adc-372240dc0dc2",
   "metadata": {},
   "outputs": [],
   "source": [
    "#стандарт\n",
    "def standart(distinct_v, counts):\n",
    "    return numpy.sqrt(variance(distinct_v, counts))"
   ]
  },
  {
   "cell_type": "code",
   "execution_count": 22,
   "id": "d2cbc698-e738-444b-b9a9-e7cdd90f0879",
   "metadata": {},
   "outputs": [],
   "source": [
    "#варіація\n",
    "def variation(distinct_v, counts):\n",
    "    return standart(distinct_v, counts) / average_(distinct_v, counts)"
   ]
  },
  {
   "cell_type": "code",
   "execution_count": 23,
   "id": "38763da5-7b57-42f9-a95b-c2685f595df0",
   "metadata": {},
   "outputs": [],
   "source": [
    "#вибіркова дисперсія\n",
    "def selective_dispersion(distinct_v, counts):\n",
    "    return deviation(distinct_v, counts)/sum_(counts)"
   ]
  },
  {
   "cell_type": "code",
   "execution_count": 24,
   "id": "b0775aeb-43e0-4b8f-896c-540ea2d0fc1c",
   "metadata": {},
   "outputs": [],
   "source": [
    "#вибіркове середнє квадратичне відхилення\n",
    "def selective_average_quadratic_deviation(distinct_v, counts):\n",
    "    return numpy.sqrt(selective_dispersion(distinct_v, counts))"
   ]
  },
  {
   "cell_type": "code",
   "execution_count": 25,
   "id": "55136676-fdcf-4a2d-89ec-820c5878237f",
   "metadata": {},
   "outputs": [],
   "source": [
    "#центральний момент k-того порядку\n",
    "def m_k(k, distinct_v, counts):\n",
    "    to_return = 0\n",
    "    _avg = average_(distinct_v, counts)\n",
    "    for i in range(len(distinct_v)):\n",
    "        to_return += ((distinct_v[i] - _avg) ** k) * counts[i]\n",
    "    return to_return/sum_(counts)"
   ]
  },
  {
   "cell_type": "code",
   "execution_count": 26,
   "id": "264ca3e2-3445-4398-81a6-b61456172107",
   "metadata": {},
   "outputs": [],
   "source": [
    "#асиметрія\n",
    "def asymetry(distinct_v, counts):\n",
    "    return m_k(3, distinct_v, counts) / (m_k(2, distinct_v, counts) ** (3/2))"
   ]
  },
  {
   "cell_type": "code",
   "execution_count": 27,
   "id": "ee17f011-0b8b-4a5a-8410-b584c6e3399f",
   "metadata": {},
   "outputs": [],
   "source": [
    "#ексцес\n",
    "def excess(distinct_v, counts):\n",
    "    return m_k(4, distinct_v, counts) / (m_k(2, distinct_v, counts) ** (2)) - 3"
   ]
  },
  {
   "cell_type": "code",
   "execution_count": 28,
   "id": "c4459abc-000e-45fe-8b3f-14ecbde58aa1",
   "metadata": {},
   "outputs": [
    {
     "name": "stdout",
     "output_type": "stream",
     "text": [
      "Числові характеристики\n",
      "Медіана: 2782.0\n",
      "Вибіркове середнє значення: 2488.356\n",
      "Розмах: 4991\n",
      "Девіація: 1951428737.263999\n",
      "Варіанса: 1953382.1193833824\n",
      "Стандарт: 1397.6344727371968\n",
      "Варіація: 0.5616698224599682\n",
      "Вибіркова дисперсія: 1951428.737263999\n",
      "Ексцес: -1.135568857134211\n",
      "\n",
      "Медіана: 2487.0\n",
      "Вибіркове середнє значення: 2488.356\n",
      "Розмах: 4991\n",
      "Девіація: 1142.0\n",
      "Варіанса: 1953382.1193833833\n",
      "Стандарт: 1397.6344727371973\n",
      "Варіація: 0.5613889173048843\n",
      "Вибіркова дисперсія: 2291.5\n",
      "Ексцес: -1.1355688571342146\n",
      "The time difference 1 is : 0.3721557999999998\n",
      "The time difference 2 is : 0.004691300000000176\n"
     ]
    }
   ],
   "source": [
    "print(\"Числові характеристики\")\n",
    "\n",
    "\n",
    "print(\"Медіана: \" + str(find_median_discrete(a)))\n",
    "print(\"Вибіркове середнє значення: \" + str(average_(distinct_values, counts)))\n",
    "print(\"Розмах: \" + str(scope(distinct_values)))\n",
    "print(\"Девіація: \" + str(deviation(distinct_values, counts)))\n",
    "print(\"Варіанса: \" + str(variance(distinct_values, counts)))\n",
    "print(\"Стандарт: \" + str(standart(distinct_values, counts)))\n",
    "print(\"Варіація: \" + str(variation(distinct_values, counts)))\n",
    "print(\"Вибіркова дисперсія: \" + str(selective_dispersion(distinct_values, counts)))\n",
    "print(\"Ексцес: \" + str(excess(distinct_values, counts)))\n",
    "endtime = timeit.default_timer()\n",
    "\n",
    "print()\n",
    "\n",
    "starttime1 = timeit.default_timer()\n",
    "print(\"Медіана: \" + str(numpy.nanmedian(a)))\n",
    "print(\"Вибіркове середнє значення: \" + str(numpy.average(a)))\n",
    "print(\"Розмах: \" + str(numpy.ptp(distinct_values)))\n",
    "print(\"Девіація: \" + str(scipy.stats.median_abs_deviation(a)))\n",
    "print(\"Варіанса: \" + str(scipy.stats.tvar(a)))\n",
    "print(\"Стандарт: \" + str(scipy.stats.tstd(a)))\n",
    "print(\"Варіація: \" + str(scipy.stats.variation(a)))\n",
    "print(\"Вибіркова дисперсія: \" + str(scipy.stats.iqr(a)))\n",
    "print(\"Ексцес: \" + str(scipy.stats.kurtosis(a)))\n",
    "endtime1 = timeit.default_timer()\n",
    "\n",
    "print(\"The time difference 1 is :\", endtime - starttime)\n",
    "print(\"The time difference 2 is :\", endtime1 - starttime1)"
   ]
  },
  {
   "cell_type": "code",
   "execution_count": 29,
   "id": "88ef925f-ef1a-4031-9e41-cb511d1ae4df",
   "metadata": {},
   "outputs": [],
   "source": [
    "# print(\"Числові характеристики\")\n",
    "# starttime = timeit.default_timer()\n",
    "# print(\"Медіана: \" + str(find_median_discrete(a)))\n",
    "# #print(\"Мода: \" + str(find_moda_discrete(a, counts, distinct_values)))\n",
    "# print(\"Вибіркове середнє значення: \" + str(average_(distinct_values, counts)))\n",
    "# print(\"Розмах: \" + str(scope(distinct_values)))\n",
    "# print(\"Девіація: \" + str(deviation(distinct_values, counts)))\n",
    "# print(\"Варіанса: \" + str(variance(distinct_values, counts)))\n",
    "# print(\"Стандарт: \" + str(standart(distinct_values, counts)))\n",
    "# print(\"Варіація: \" + str(variation(distinct_values, counts)))\n",
    "# print(\"Вибіркова дисперсія: \" + str(selective_dispersion(distinct_values, counts)))\n",
    "# #print(\"Вибіркове середнє квадратичне відхилення: \" + str(selective_average_quadratic_deviation(distinct_values, counts)))\n",
    "# #print(\"Центральний момент другого порядку: \" + str(m_k(2, distinct_values, counts)))\n",
    "# #print(\"Центральний момент третього порядку: \" + str(m_k(3, distinct_values, counts)))\n",
    "# #print(\"Центральний момент четвертого порядку: \" + str(m_k(4, distinct_values, counts)))\n",
    "# #print(\"Асиметрія: \" + str(asymetry(distinct_values, counts)))\n",
    "# print(\"Ексцес: \" + str(excess(distinct_values, counts)))\n",
    "# endtime = timeit.default_timer()\n",
    "# print()\n",
    "\n",
    "# starttime1 = timeit.default_timer()\n",
    "# print(\"Медіана: \" + str(numpy.nanmedian(a)))\n",
    "# #print(\"Мода: \" + str(scipy.stats.mode(a)))\n",
    "# print(\"Вибіркове середнє значення: \" + str(numpy.average(a)))\n",
    "# print(\"Розмах: \" + str(numpy.ptp(distinct_values)))\n",
    "# print(\"Девіація: \" + str(scipy.stats.median_abs_deviation(a)))\n",
    "# print(\"Варіанса: \" + str(scipy.stats.tvar(a)))\n",
    "# print(\"Стандарт: \" + str(scipy.stats.tstd(a)))\n",
    "# print(\"Варіація: \" + str(scipy.stats.variation(a)))\n",
    "# print(\"Вибіркова дисперсія: \" + str(scipy.stats.iqr(a)))\n",
    "# #print(\"Центральний момент другого порядку: \" + str(scipy.stats.moment(a), 2))\n",
    "# print(\"Ексцес: \" + str(scipy.stats.kurtosis(a)))\n",
    "# endtime1 = timeit.default_timer()\n",
    "# print(\"The time difference 1 is :\", endtime - starttime)\n",
    "# print(\"The time difference 2 is :\", endtime1 - starttime1)\n",
    "\n",
    "#print(\"Асиметрія: \" + str(scipy.stats.laplace_asymmetric(a)))"
   ]
  }
 ],
 "metadata": {
  "kernelspec": {
   "display_name": "Python 3 (ipykernel)",
   "language": "python",
   "name": "python3"
  },
  "language_info": {
   "codemirror_mode": {
    "name": "ipython",
    "version": 3
   },
   "file_extension": ".py",
   "mimetype": "text/x-python",
   "name": "python",
   "nbconvert_exporter": "python",
   "pygments_lexer": "ipython3",
   "version": "3.9.13"
  }
 },
 "nbformat": 4,
 "nbformat_minor": 5
}
